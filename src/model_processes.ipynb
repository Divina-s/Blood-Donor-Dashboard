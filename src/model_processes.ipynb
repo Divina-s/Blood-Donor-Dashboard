{
 "cells": [
  {
   "cell_type": "code",
   "execution_count": 1,
   "metadata": {},
   "outputs": [],
   "source": [
    "#import dataset from xlsx\n",
    "import pandas as pd\n",
    "\n",
    "def import_dataset(file_path):\n",
    "    df = pd.read_excel(file_path)\n",
    "    return df\n",
    "    "
   ]
  },
  {
   "cell_type": "code",
   "execution_count": 3,
   "metadata": {},
   "outputs": [],
   "source": [
    "# importing dataset from rootdir\n",
    "df = import_dataset('./../Cleaned_Data.xlsx')"
   ]
  },
  {
   "cell_type": "code",
   "execution_count": 4,
   "metadata": {},
   "outputs": [
    {
     "data": {
      "text/html": [
       "<div>\n",
       "<style scoped>\n",
       "    .dataframe tbody tr th:only-of-type {\n",
       "        vertical-align: middle;\n",
       "    }\n",
       "\n",
       "    .dataframe tbody tr th {\n",
       "        vertical-align: top;\n",
       "    }\n",
       "\n",
       "    .dataframe thead th {\n",
       "        text-align: right;\n",
       "    }\n",
       "</style>\n",
       "<table border=\"1\" class=\"dataframe\">\n",
       "  <thead>\n",
       "    <tr style=\"text-align: right;\">\n",
       "      <th></th>\n",
       "      <th>ID</th>\n",
       "      <th>Age</th>\n",
       "      <th>Horodateur</th>\n",
       "      <th>Niveau_scolaire</th>\n",
       "      <th>Genre_</th>\n",
       "      <th>Situation_Matrimoniale_(SM)</th>\n",
       "      <th>Profession_</th>\n",
       "      <th>Arrondissement_de_résidence_</th>\n",
       "      <th>Quartier_de_Résidence_</th>\n",
       "      <th>Nationalité_</th>\n",
       "      <th>Religion_</th>\n",
       "      <th>A-t-il_(elle)_déjà_donné_le_sang_</th>\n",
       "      <th>ÉLIGIBILITÉ_AU_DON.</th>\n",
       "    </tr>\n",
       "  </thead>\n",
       "  <tbody>\n",
       "    <tr>\n",
       "      <th>0</th>\n",
       "      <td>DONOR_1842</td>\n",
       "      <td>24</td>\n",
       "      <td>46:44.9</td>\n",
       "      <td>3</td>\n",
       "      <td>1</td>\n",
       "      <td>0</td>\n",
       "      <td>Etudiant (e)</td>\n",
       "      <td>Douala 3</td>\n",
       "      <td>Yassa</td>\n",
       "      <td>Camerounaise</td>\n",
       "      <td>Chretien (Catholique)</td>\n",
       "      <td>0</td>\n",
       "      <td>1</td>\n",
       "    </tr>\n",
       "    <tr>\n",
       "      <th>1</th>\n",
       "      <td>DONOR_1843</td>\n",
       "      <td>23</td>\n",
       "      <td>44:19.0</td>\n",
       "      <td>3</td>\n",
       "      <td>1</td>\n",
       "      <td>0</td>\n",
       "      <td>Sans Emplois</td>\n",
       "      <td>Pas Précisé</td>\n",
       "      <td>Pas Précisé</td>\n",
       "      <td>Camerounaise</td>\n",
       "      <td>Chretien (Catholique)</td>\n",
       "      <td>1</td>\n",
       "      <td>0</td>\n",
       "    </tr>\n",
       "    <tr>\n",
       "      <th>2</th>\n",
       "      <td>DONOR_1844</td>\n",
       "      <td>41</td>\n",
       "      <td>46:54.3</td>\n",
       "      <td>0</td>\n",
       "      <td>1</td>\n",
       "      <td>2</td>\n",
       "      <td>Tailleur</td>\n",
       "      <td>Douala 1</td>\n",
       "      <td>NEW BELL</td>\n",
       "      <td>Camerounaise</td>\n",
       "      <td>Pas Précisé</td>\n",
       "      <td>0</td>\n",
       "      <td>0</td>\n",
       "    </tr>\n",
       "    <tr>\n",
       "      <th>3</th>\n",
       "      <td>DONOR_1845</td>\n",
       "      <td>24</td>\n",
       "      <td>29:29.7</td>\n",
       "      <td>3</td>\n",
       "      <td>1</td>\n",
       "      <td>0</td>\n",
       "      <td>Etudiant</td>\n",
       "      <td>Douala 5</td>\n",
       "      <td>Ange raphael</td>\n",
       "      <td>Camerounaise</td>\n",
       "      <td>Musulman</td>\n",
       "      <td>0</td>\n",
       "      <td>1</td>\n",
       "    </tr>\n",
       "    <tr>\n",
       "      <th>4</th>\n",
       "      <td>DONOR_1846</td>\n",
       "      <td>30</td>\n",
       "      <td>47:47.4</td>\n",
       "      <td>2</td>\n",
       "      <td>1</td>\n",
       "      <td>0</td>\n",
       "      <td>Militaire</td>\n",
       "      <td>Douala (Non précisé )</td>\n",
       "      <td>Beedi</td>\n",
       "      <td>Camerounaise</td>\n",
       "      <td>Adventiste</td>\n",
       "      <td>1</td>\n",
       "      <td>1</td>\n",
       "    </tr>\n",
       "  </tbody>\n",
       "</table>\n",
       "</div>"
      ],
      "text/plain": [
       "           ID  Age Horodateur  Niveau_scolaire  Genre_  \\\n",
       "0  DONOR_1842   24    46:44.9                3       1   \n",
       "1  DONOR_1843   23    44:19.0                3       1   \n",
       "2  DONOR_1844   41    46:54.3                0       1   \n",
       "3  DONOR_1845   24    29:29.7                3       1   \n",
       "4  DONOR_1846   30    47:47.4                2       1   \n",
       "\n",
       "   Situation_Matrimoniale_(SM)   Profession_ Arrondissement_de_résidence_  \\\n",
       "0                            0  Etudiant (e)                     Douala 3   \n",
       "1                            0  Sans Emplois                  Pas Précisé   \n",
       "2                            2     Tailleur                      Douala 1   \n",
       "3                            0      Etudiant                     Douala 5   \n",
       "4                            0     Militaire        Douala (Non précisé )   \n",
       "\n",
       "  Quartier_de_Résidence_  Nationalité_              Religion_  \\\n",
       "0                  Yassa  Camerounaise  Chretien (Catholique)   \n",
       "1            Pas Précisé  Camerounaise  Chretien (Catholique)   \n",
       "2               NEW BELL  Camerounaise            Pas Précisé   \n",
       "3           Ange raphael  Camerounaise               Musulman   \n",
       "4                  Beedi  Camerounaise             Adventiste   \n",
       "\n",
       "   A-t-il_(elle)_déjà_donné_le_sang_  ÉLIGIBILITÉ_AU_DON.  \n",
       "0                                  0                    1  \n",
       "1                                  1                    0  \n",
       "2                                  0                    0  \n",
       "3                                  0                    1  \n",
       "4                                  1                    1  "
      ]
     },
     "execution_count": 4,
     "metadata": {},
     "output_type": "execute_result"
    }
   ],
   "source": [
    "df.head()"
   ]
  },
  {
   "cell_type": "code",
   "execution_count": 5,
   "metadata": {},
   "outputs": [
    {
     "name": "stdout",
     "output_type": "stream",
     "text": [
      "   Age  A-t-il_(elle)_déjà_donné_le_sang_  ÉLIGIBILITÉ_AU_DON.  \\\n",
      "0   24                                  0                    1   \n",
      "1   23                                  1                    0   \n",
      "2   41                                  0                    0   \n",
      "3   24                                  0                    1   \n",
      "4   30                                  1                    1   \n",
      "\n",
      "   Niveau_scolaire_0  Niveau_scolaire_1  Niveau_scolaire_2  Niveau_scolaire_3  \\\n",
      "0              False              False              False               True   \n",
      "1              False              False              False               True   \n",
      "2               True              False              False              False   \n",
      "3              False              False              False               True   \n",
      "4              False              False               True              False   \n",
      "\n",
      "   Genre__1  Situation_Matrimoniale_(SM)_1  Situation_Matrimoniale_(SM)_2  \\\n",
      "0      True                          False                          False   \n",
      "1      True                          False                          False   \n",
      "2      True                          False                           True   \n",
      "3      True                          False                          False   \n",
      "4      True                          False                          False   \n",
      "\n",
      "   ...  Religion__Pas Précisé  Religion__Pentecotiste  Religion__Pentecôtiste  \\\n",
      "0  ...                  False                   False                   False   \n",
      "1  ...                  False                   False                   False   \n",
      "2  ...                   True                   False                   False   \n",
      "3  ...                  False                   False                   False   \n",
      "4  ...                  False                   False                   False   \n",
      "\n",
      "   Religion__Pentecôtistes  Religion__Presbyterien  Religion__Traditionaliste  \\\n",
      "0                    False                   False                      False   \n",
      "1                    False                   False                      False   \n",
      "2                    False                   False                      False   \n",
      "3                    False                   False                      False   \n",
      "4                    False                   False                      False   \n",
      "\n",
      "   Religion__UEBC  Religion__aucune  Religion__cmci  Religion__pentecôtiste  \n",
      "0           False             False           False                   False  \n",
      "1           False             False           False                   False  \n",
      "2           False             False           False                   False  \n",
      "3           False             False           False                   False  \n",
      "4           False             False           False                   False  \n",
      "\n",
      "[5 rows x 1186 columns]\n"
     ]
    }
   ],
   "source": [
    "# Drop unnecessary columns\n",
    "df.drop(columns=[\"ID\", \"Horodateur\"], inplace=True)\n",
    "\n",
    "# Convert categorical variables to numerical (Encoding)\n",
    "categorical_columns = [\"Niveau_scolaire\", \"Genre_\", \"Situation_Matrimoniale_(SM)\", \n",
    "                       \"Profession_\", \"Arrondissement_de_résidence_\", \"Quartier_de_Résidence_\", \n",
    "                       \"Nationalité_\", \"Religion_\"]\n",
    "\n",
    "df = pd.get_dummies(df, columns=categorical_columns, drop_first=True)\n",
    "\n",
    "# Display updated dataframe\n",
    "print(df.head())"
   ]
  },
  {
   "cell_type": "code",
   "execution_count": 6,
   "metadata": {},
   "outputs": [
    {
     "name": "stdout",
     "output_type": "stream",
     "text": [
      "Training set size: (1476, 1185), Testing set size: (370, 1185)\n"
     ]
    }
   ],
   "source": [
    "from sklearn.model_selection import train_test_split\n",
    "\n",
    "# Define features (X) and target (y)\n",
    "X = df.drop(columns=[\"ÉLIGIBILITÉ_AU_DON.\"])\n",
    "y = df[\"ÉLIGIBILITÉ_AU_DON.\"]\n",
    "\n",
    "# Split into training (80%) and testing (20%) sets\n",
    "X_train, X_test, y_train, y_test = train_test_split(X, y, test_size=0.2, random_state=42)\n",
    "\n",
    "print(f\"Training set size: {X_train.shape}, Testing set size: {X_test.shape}\")"
   ]
  },
  {
   "cell_type": "code",
   "execution_count": 7,
   "metadata": {},
   "outputs": [
    {
     "name": "stdout",
     "output_type": "stream",
     "text": [
      "Model training completed.\n"
     ]
    }
   ],
   "source": [
    "from sklearn.tree import DecisionTreeClassifier\n",
    "\n",
    "# Initialize the model\n",
    "model = DecisionTreeClassifier(criterion=\"gini\", max_depth=5, random_state=42)\n",
    "\n",
    "# Train the model\n",
    "model.fit(X_train, y_train)\n",
    "\n",
    "print(\"Model training completed.\")"
   ]
  },
  {
   "cell_type": "code",
   "execution_count": 8,
   "metadata": {},
   "outputs": [
    {
     "name": "stdout",
     "output_type": "stream",
     "text": [
      "Accuracy: 0.86\n",
      "              precision    recall  f1-score   support\n",
      "\n",
      "           0       1.00      0.06      0.11        18\n",
      "           1       0.86      1.00      0.92       314\n",
      "           2       0.67      0.11      0.18        38\n",
      "\n",
      "    accuracy                           0.86       370\n",
      "   macro avg       0.84      0.39      0.40       370\n",
      "weighted avg       0.85      0.86      0.81       370\n",
      "\n"
     ]
    }
   ],
   "source": [
    "from sklearn.metrics import accuracy_score, classification_report\n",
    "\n",
    "# Predictions\n",
    "y_pred = model.predict(X_test)\n",
    "\n",
    "# Accuracy\n",
    "accuracy = accuracy_score(y_test, y_pred)\n",
    "print(f\"Accuracy: {accuracy:.2f}\")\n",
    "\n",
    "# Classification report\n",
    "print(classification_report(y_test, y_pred))"
   ]
  },
  {
   "cell_type": "code",
   "execution_count": null,
   "metadata": {},
   "outputs": [
    {
     "ename": "IndexError",
     "evalue": "list index out of range",
     "output_type": "error",
     "traceback": [
      "\u001b[31m---------------------------------------------------------------------------\u001b[39m",
      "\u001b[31mIndexError\u001b[39m                                Traceback (most recent call last)",
      "\u001b[36mCell\u001b[39m\u001b[36m \u001b[39m\u001b[32mIn[9]\u001b[39m\u001b[32m, line 5\u001b[39m\n\u001b[32m      2\u001b[39m \u001b[38;5;28;01mfrom\u001b[39;00m\u001b[38;5;250m \u001b[39m\u001b[34;01msklearn\u001b[39;00m\u001b[34;01m.\u001b[39;00m\u001b[34;01mtree\u001b[39;00m\u001b[38;5;250m \u001b[39m\u001b[38;5;28;01mimport\u001b[39;00m plot_tree\n\u001b[32m      4\u001b[39m plt.figure(figsize=(\u001b[32m15\u001b[39m, \u001b[32m8\u001b[39m))\n\u001b[32m----> \u001b[39m\u001b[32m5\u001b[39m \u001b[43mplot_tree\u001b[49m\u001b[43m(\u001b[49m\u001b[43mmodel\u001b[49m\u001b[43m,\u001b[49m\u001b[43m \u001b[49m\u001b[43mfeature_names\u001b[49m\u001b[43m=\u001b[49m\u001b[43mX\u001b[49m\u001b[43m.\u001b[49m\u001b[43mcolumns\u001b[49m\u001b[43m,\u001b[49m\u001b[43m \u001b[49m\u001b[43mclass_names\u001b[49m\u001b[43m=\u001b[49m\u001b[43m[\u001b[49m\u001b[33;43m\"\u001b[39;49m\u001b[33;43mNot Eligible\u001b[39;49m\u001b[33;43m\"\u001b[39;49m\u001b[43m,\u001b[49m\u001b[43m \u001b[49m\u001b[33;43m\"\u001b[39;49m\u001b[33;43mEligible\u001b[39;49m\u001b[33;43m\"\u001b[39;49m\u001b[43m]\u001b[49m\u001b[43m,\u001b[49m\u001b[43m \u001b[49m\u001b[43mfilled\u001b[49m\u001b[43m=\u001b[49m\u001b[38;5;28;43;01mTrue\u001b[39;49;00m\u001b[43m)\u001b[49m\n\u001b[32m      6\u001b[39m plt.show()\n",
      "\u001b[36mFile \u001b[39m\u001b[32m~/DataScience/hackathons/DeepIndaba/Blood-Donor-Dashboard/thanus/lib/python3.13/site-packages/sklearn/utils/_param_validation.py:216\u001b[39m, in \u001b[36mvalidate_params.<locals>.decorator.<locals>.wrapper\u001b[39m\u001b[34m(*args, **kwargs)\u001b[39m\n\u001b[32m    210\u001b[39m \u001b[38;5;28;01mtry\u001b[39;00m:\n\u001b[32m    211\u001b[39m     \u001b[38;5;28;01mwith\u001b[39;00m config_context(\n\u001b[32m    212\u001b[39m         skip_parameter_validation=(\n\u001b[32m    213\u001b[39m             prefer_skip_nested_validation \u001b[38;5;129;01mor\u001b[39;00m global_skip_validation\n\u001b[32m    214\u001b[39m         )\n\u001b[32m    215\u001b[39m     ):\n\u001b[32m--> \u001b[39m\u001b[32m216\u001b[39m         \u001b[38;5;28;01mreturn\u001b[39;00m \u001b[43mfunc\u001b[49m\u001b[43m(\u001b[49m\u001b[43m*\u001b[49m\u001b[43margs\u001b[49m\u001b[43m,\u001b[49m\u001b[43m \u001b[49m\u001b[43m*\u001b[49m\u001b[43m*\u001b[49m\u001b[43mkwargs\u001b[49m\u001b[43m)\u001b[49m\n\u001b[32m    217\u001b[39m \u001b[38;5;28;01mexcept\u001b[39;00m InvalidParameterError \u001b[38;5;28;01mas\u001b[39;00m e:\n\u001b[32m    218\u001b[39m     \u001b[38;5;66;03m# When the function is just a wrapper around an estimator, we allow\u001b[39;00m\n\u001b[32m    219\u001b[39m     \u001b[38;5;66;03m# the function to delegate validation to the estimator, but we replace\u001b[39;00m\n\u001b[32m    220\u001b[39m     \u001b[38;5;66;03m# the name of the estimator by the name of the function in the error\u001b[39;00m\n\u001b[32m    221\u001b[39m     \u001b[38;5;66;03m# message to avoid confusion.\u001b[39;00m\n\u001b[32m    222\u001b[39m     msg = re.sub(\n\u001b[32m    223\u001b[39m         \u001b[33mr\u001b[39m\u001b[33m\"\u001b[39m\u001b[33mparameter of \u001b[39m\u001b[33m\\\u001b[39m\u001b[33mw+ must be\u001b[39m\u001b[33m\"\u001b[39m,\n\u001b[32m    224\u001b[39m         \u001b[33mf\u001b[39m\u001b[33m\"\u001b[39m\u001b[33mparameter of \u001b[39m\u001b[38;5;132;01m{\u001b[39;00mfunc.\u001b[34m__qualname__\u001b[39m\u001b[38;5;132;01m}\u001b[39;00m\u001b[33m must be\u001b[39m\u001b[33m\"\u001b[39m,\n\u001b[32m    225\u001b[39m         \u001b[38;5;28mstr\u001b[39m(e),\n\u001b[32m    226\u001b[39m     )\n",
      "\u001b[36mFile \u001b[39m\u001b[32m~/DataScience/hackathons/DeepIndaba/Blood-Donor-Dashboard/thanus/lib/python3.13/site-packages/sklearn/tree/_export.py:205\u001b[39m, in \u001b[36mplot_tree\u001b[39m\u001b[34m(decision_tree, max_depth, feature_names, class_names, label, filled, impurity, node_ids, proportion, rounded, precision, ax, fontsize)\u001b[39m\n\u001b[32m    190\u001b[39m check_is_fitted(decision_tree)\n\u001b[32m    192\u001b[39m exporter = _MPLTreeExporter(\n\u001b[32m    193\u001b[39m     max_depth=max_depth,\n\u001b[32m    194\u001b[39m     feature_names=feature_names,\n\u001b[32m   (...)\u001b[39m\u001b[32m    203\u001b[39m     fontsize=fontsize,\n\u001b[32m    204\u001b[39m )\n\u001b[32m--> \u001b[39m\u001b[32m205\u001b[39m \u001b[38;5;28;01mreturn\u001b[39;00m \u001b[43mexporter\u001b[49m\u001b[43m.\u001b[49m\u001b[43mexport\u001b[49m\u001b[43m(\u001b[49m\u001b[43mdecision_tree\u001b[49m\u001b[43m,\u001b[49m\u001b[43m \u001b[49m\u001b[43max\u001b[49m\u001b[43m=\u001b[49m\u001b[43max\u001b[49m\u001b[43m)\u001b[49m\n",
      "\u001b[36mFile \u001b[39m\u001b[32m~/DataScience/hackathons/DeepIndaba/Blood-Donor-Dashboard/thanus/lib/python3.13/site-packages/sklearn/tree/_export.py:652\u001b[39m, in \u001b[36m_MPLTreeExporter.export\u001b[39m\u001b[34m(self, decision_tree, ax)\u001b[39m\n\u001b[32m    650\u001b[39m ax.clear()\n\u001b[32m    651\u001b[39m ax.set_axis_off()\n\u001b[32m--> \u001b[39m\u001b[32m652\u001b[39m my_tree = \u001b[38;5;28;43mself\u001b[39;49m\u001b[43m.\u001b[49m\u001b[43m_make_tree\u001b[49m\u001b[43m(\u001b[49m\u001b[32;43m0\u001b[39;49m\u001b[43m,\u001b[49m\u001b[43m \u001b[49m\u001b[43mdecision_tree\u001b[49m\u001b[43m.\u001b[49m\u001b[43mtree_\u001b[49m\u001b[43m,\u001b[49m\u001b[43m \u001b[49m\u001b[43mdecision_tree\u001b[49m\u001b[43m.\u001b[49m\u001b[43mcriterion\u001b[49m\u001b[43m)\u001b[49m\n\u001b[32m    653\u001b[39m draw_tree = buchheim(my_tree)\n\u001b[32m    655\u001b[39m \u001b[38;5;66;03m# important to make sure we're still\u001b[39;00m\n\u001b[32m    656\u001b[39m \u001b[38;5;66;03m# inside the axis after drawing the box\u001b[39;00m\n\u001b[32m    657\u001b[39m \u001b[38;5;66;03m# this makes sense because the width of a box\u001b[39;00m\n\u001b[32m    658\u001b[39m \u001b[38;5;66;03m# is about the same as the distance between boxes\u001b[39;00m\n",
      "\u001b[36mFile \u001b[39m\u001b[32m~/DataScience/hackathons/DeepIndaba/Blood-Donor-Dashboard/thanus/lib/python3.13/site-packages/sklearn/tree/_export.py:633\u001b[39m, in \u001b[36m_MPLTreeExporter._make_tree\u001b[39m\u001b[34m(self, node_id, et, criterion, depth)\u001b[39m\n\u001b[32m    628\u001b[39m name = \u001b[38;5;28mself\u001b[39m.node_to_str(et, node_id, criterion=criterion)\n\u001b[32m    629\u001b[39m \u001b[38;5;28;01mif\u001b[39;00m et.children_left[node_id] != _tree.TREE_LEAF \u001b[38;5;129;01mand\u001b[39;00m (\n\u001b[32m    630\u001b[39m     \u001b[38;5;28mself\u001b[39m.max_depth \u001b[38;5;129;01mis\u001b[39;00m \u001b[38;5;28;01mNone\u001b[39;00m \u001b[38;5;129;01mor\u001b[39;00m depth <= \u001b[38;5;28mself\u001b[39m.max_depth\n\u001b[32m    631\u001b[39m ):\n\u001b[32m    632\u001b[39m     children = [\n\u001b[32m--> \u001b[39m\u001b[32m633\u001b[39m         \u001b[38;5;28;43mself\u001b[39;49m\u001b[43m.\u001b[49m\u001b[43m_make_tree\u001b[49m\u001b[43m(\u001b[49m\n\u001b[32m    634\u001b[39m \u001b[43m            \u001b[49m\u001b[43met\u001b[49m\u001b[43m.\u001b[49m\u001b[43mchildren_left\u001b[49m\u001b[43m[\u001b[49m\u001b[43mnode_id\u001b[49m\u001b[43m]\u001b[49m\u001b[43m,\u001b[49m\u001b[43m \u001b[49m\u001b[43met\u001b[49m\u001b[43m,\u001b[49m\u001b[43m \u001b[49m\u001b[43mcriterion\u001b[49m\u001b[43m,\u001b[49m\u001b[43m \u001b[49m\u001b[43mdepth\u001b[49m\u001b[43m=\u001b[49m\u001b[43mdepth\u001b[49m\u001b[43m \u001b[49m\u001b[43m+\u001b[49m\u001b[43m \u001b[49m\u001b[32;43m1\u001b[39;49m\n\u001b[32m    635\u001b[39m \u001b[43m        \u001b[49m\u001b[43m)\u001b[49m,\n\u001b[32m    636\u001b[39m         \u001b[38;5;28mself\u001b[39m._make_tree(\n\u001b[32m    637\u001b[39m             et.children_right[node_id], et, criterion, depth=depth + \u001b[32m1\u001b[39m\n\u001b[32m    638\u001b[39m         ),\n\u001b[32m    639\u001b[39m     ]\n\u001b[32m    640\u001b[39m \u001b[38;5;28;01melse\u001b[39;00m:\n\u001b[32m    641\u001b[39m     \u001b[38;5;28;01mreturn\u001b[39;00m Tree(name, node_id)\n",
      "\u001b[36mFile \u001b[39m\u001b[32m~/DataScience/hackathons/DeepIndaba/Blood-Donor-Dashboard/thanus/lib/python3.13/site-packages/sklearn/tree/_export.py:633\u001b[39m, in \u001b[36m_MPLTreeExporter._make_tree\u001b[39m\u001b[34m(self, node_id, et, criterion, depth)\u001b[39m\n\u001b[32m    628\u001b[39m name = \u001b[38;5;28mself\u001b[39m.node_to_str(et, node_id, criterion=criterion)\n\u001b[32m    629\u001b[39m \u001b[38;5;28;01mif\u001b[39;00m et.children_left[node_id] != _tree.TREE_LEAF \u001b[38;5;129;01mand\u001b[39;00m (\n\u001b[32m    630\u001b[39m     \u001b[38;5;28mself\u001b[39m.max_depth \u001b[38;5;129;01mis\u001b[39;00m \u001b[38;5;28;01mNone\u001b[39;00m \u001b[38;5;129;01mor\u001b[39;00m depth <= \u001b[38;5;28mself\u001b[39m.max_depth\n\u001b[32m    631\u001b[39m ):\n\u001b[32m    632\u001b[39m     children = [\n\u001b[32m--> \u001b[39m\u001b[32m633\u001b[39m         \u001b[38;5;28;43mself\u001b[39;49m\u001b[43m.\u001b[49m\u001b[43m_make_tree\u001b[49m\u001b[43m(\u001b[49m\n\u001b[32m    634\u001b[39m \u001b[43m            \u001b[49m\u001b[43met\u001b[49m\u001b[43m.\u001b[49m\u001b[43mchildren_left\u001b[49m\u001b[43m[\u001b[49m\u001b[43mnode_id\u001b[49m\u001b[43m]\u001b[49m\u001b[43m,\u001b[49m\u001b[43m \u001b[49m\u001b[43met\u001b[49m\u001b[43m,\u001b[49m\u001b[43m \u001b[49m\u001b[43mcriterion\u001b[49m\u001b[43m,\u001b[49m\u001b[43m \u001b[49m\u001b[43mdepth\u001b[49m\u001b[43m=\u001b[49m\u001b[43mdepth\u001b[49m\u001b[43m \u001b[49m\u001b[43m+\u001b[49m\u001b[43m \u001b[49m\u001b[32;43m1\u001b[39;49m\n\u001b[32m    635\u001b[39m \u001b[43m        \u001b[49m\u001b[43m)\u001b[49m,\n\u001b[32m    636\u001b[39m         \u001b[38;5;28mself\u001b[39m._make_tree(\n\u001b[32m    637\u001b[39m             et.children_right[node_id], et, criterion, depth=depth + \u001b[32m1\u001b[39m\n\u001b[32m    638\u001b[39m         ),\n\u001b[32m    639\u001b[39m     ]\n\u001b[32m    640\u001b[39m \u001b[38;5;28;01melse\u001b[39;00m:\n\u001b[32m    641\u001b[39m     \u001b[38;5;28;01mreturn\u001b[39;00m Tree(name, node_id)\n",
      "    \u001b[31m[... skipping similar frames: _MPLTreeExporter._make_tree at line 633 (1 times)]\u001b[39m\n",
      "\u001b[36mFile \u001b[39m\u001b[32m~/DataScience/hackathons/DeepIndaba/Blood-Donor-Dashboard/thanus/lib/python3.13/site-packages/sklearn/tree/_export.py:633\u001b[39m, in \u001b[36m_MPLTreeExporter._make_tree\u001b[39m\u001b[34m(self, node_id, et, criterion, depth)\u001b[39m\n\u001b[32m    628\u001b[39m name = \u001b[38;5;28mself\u001b[39m.node_to_str(et, node_id, criterion=criterion)\n\u001b[32m    629\u001b[39m \u001b[38;5;28;01mif\u001b[39;00m et.children_left[node_id] != _tree.TREE_LEAF \u001b[38;5;129;01mand\u001b[39;00m (\n\u001b[32m    630\u001b[39m     \u001b[38;5;28mself\u001b[39m.max_depth \u001b[38;5;129;01mis\u001b[39;00m \u001b[38;5;28;01mNone\u001b[39;00m \u001b[38;5;129;01mor\u001b[39;00m depth <= \u001b[38;5;28mself\u001b[39m.max_depth\n\u001b[32m    631\u001b[39m ):\n\u001b[32m    632\u001b[39m     children = [\n\u001b[32m--> \u001b[39m\u001b[32m633\u001b[39m         \u001b[38;5;28;43mself\u001b[39;49m\u001b[43m.\u001b[49m\u001b[43m_make_tree\u001b[49m\u001b[43m(\u001b[49m\n\u001b[32m    634\u001b[39m \u001b[43m            \u001b[49m\u001b[43met\u001b[49m\u001b[43m.\u001b[49m\u001b[43mchildren_left\u001b[49m\u001b[43m[\u001b[49m\u001b[43mnode_id\u001b[49m\u001b[43m]\u001b[49m\u001b[43m,\u001b[49m\u001b[43m \u001b[49m\u001b[43met\u001b[49m\u001b[43m,\u001b[49m\u001b[43m \u001b[49m\u001b[43mcriterion\u001b[49m\u001b[43m,\u001b[49m\u001b[43m \u001b[49m\u001b[43mdepth\u001b[49m\u001b[43m=\u001b[49m\u001b[43mdepth\u001b[49m\u001b[43m \u001b[49m\u001b[43m+\u001b[49m\u001b[43m \u001b[49m\u001b[32;43m1\u001b[39;49m\n\u001b[32m    635\u001b[39m \u001b[43m        \u001b[49m\u001b[43m)\u001b[49m,\n\u001b[32m    636\u001b[39m         \u001b[38;5;28mself\u001b[39m._make_tree(\n\u001b[32m    637\u001b[39m             et.children_right[node_id], et, criterion, depth=depth + \u001b[32m1\u001b[39m\n\u001b[32m    638\u001b[39m         ),\n\u001b[32m    639\u001b[39m     ]\n\u001b[32m    640\u001b[39m \u001b[38;5;28;01melse\u001b[39;00m:\n\u001b[32m    641\u001b[39m     \u001b[38;5;28;01mreturn\u001b[39;00m Tree(name, node_id)\n",
      "\u001b[36mFile \u001b[39m\u001b[32m~/DataScience/hackathons/DeepIndaba/Blood-Donor-Dashboard/thanus/lib/python3.13/site-packages/sklearn/tree/_export.py:636\u001b[39m, in \u001b[36m_MPLTreeExporter._make_tree\u001b[39m\u001b[34m(self, node_id, et, criterion, depth)\u001b[39m\n\u001b[32m    628\u001b[39m name = \u001b[38;5;28mself\u001b[39m.node_to_str(et, node_id, criterion=criterion)\n\u001b[32m    629\u001b[39m \u001b[38;5;28;01mif\u001b[39;00m et.children_left[node_id] != _tree.TREE_LEAF \u001b[38;5;129;01mand\u001b[39;00m (\n\u001b[32m    630\u001b[39m     \u001b[38;5;28mself\u001b[39m.max_depth \u001b[38;5;129;01mis\u001b[39;00m \u001b[38;5;28;01mNone\u001b[39;00m \u001b[38;5;129;01mor\u001b[39;00m depth <= \u001b[38;5;28mself\u001b[39m.max_depth\n\u001b[32m    631\u001b[39m ):\n\u001b[32m    632\u001b[39m     children = [\n\u001b[32m    633\u001b[39m         \u001b[38;5;28mself\u001b[39m._make_tree(\n\u001b[32m    634\u001b[39m             et.children_left[node_id], et, criterion, depth=depth + \u001b[32m1\u001b[39m\n\u001b[32m    635\u001b[39m         ),\n\u001b[32m--> \u001b[39m\u001b[32m636\u001b[39m         \u001b[38;5;28;43mself\u001b[39;49m\u001b[43m.\u001b[49m\u001b[43m_make_tree\u001b[49m\u001b[43m(\u001b[49m\n\u001b[32m    637\u001b[39m \u001b[43m            \u001b[49m\u001b[43met\u001b[49m\u001b[43m.\u001b[49m\u001b[43mchildren_right\u001b[49m\u001b[43m[\u001b[49m\u001b[43mnode_id\u001b[49m\u001b[43m]\u001b[49m\u001b[43m,\u001b[49m\u001b[43m \u001b[49m\u001b[43met\u001b[49m\u001b[43m,\u001b[49m\u001b[43m \u001b[49m\u001b[43mcriterion\u001b[49m\u001b[43m,\u001b[49m\u001b[43m \u001b[49m\u001b[43mdepth\u001b[49m\u001b[43m=\u001b[49m\u001b[43mdepth\u001b[49m\u001b[43m \u001b[49m\u001b[43m+\u001b[49m\u001b[43m \u001b[49m\u001b[32;43m1\u001b[39;49m\n\u001b[32m    638\u001b[39m \u001b[43m        \u001b[49m\u001b[43m)\u001b[49m,\n\u001b[32m    639\u001b[39m     ]\n\u001b[32m    640\u001b[39m \u001b[38;5;28;01melse\u001b[39;00m:\n\u001b[32m    641\u001b[39m     \u001b[38;5;28;01mreturn\u001b[39;00m Tree(name, node_id)\n",
      "\u001b[36mFile \u001b[39m\u001b[32m~/DataScience/hackathons/DeepIndaba/Blood-Donor-Dashboard/thanus/lib/python3.13/site-packages/sklearn/tree/_export.py:628\u001b[39m, in \u001b[36m_MPLTreeExporter._make_tree\u001b[39m\u001b[34m(self, node_id, et, criterion, depth)\u001b[39m\n\u001b[32m    625\u001b[39m \u001b[38;5;28;01mdef\u001b[39;00m\u001b[38;5;250m \u001b[39m\u001b[34m_make_tree\u001b[39m(\u001b[38;5;28mself\u001b[39m, node_id, et, criterion, depth=\u001b[32m0\u001b[39m):\n\u001b[32m    626\u001b[39m     \u001b[38;5;66;03m# traverses _tree.Tree recursively, builds intermediate\u001b[39;00m\n\u001b[32m    627\u001b[39m     \u001b[38;5;66;03m# \"_reingold_tilford.Tree\" object\u001b[39;00m\n\u001b[32m--> \u001b[39m\u001b[32m628\u001b[39m     name = \u001b[38;5;28;43mself\u001b[39;49m\u001b[43m.\u001b[49m\u001b[43mnode_to_str\u001b[49m\u001b[43m(\u001b[49m\u001b[43met\u001b[49m\u001b[43m,\u001b[49m\u001b[43m \u001b[49m\u001b[43mnode_id\u001b[49m\u001b[43m,\u001b[49m\u001b[43m \u001b[49m\u001b[43mcriterion\u001b[49m\u001b[43m=\u001b[49m\u001b[43mcriterion\u001b[49m\u001b[43m)\u001b[49m\n\u001b[32m    629\u001b[39m     \u001b[38;5;28;01mif\u001b[39;00m et.children_left[node_id] != _tree.TREE_LEAF \u001b[38;5;129;01mand\u001b[39;00m (\n\u001b[32m    630\u001b[39m         \u001b[38;5;28mself\u001b[39m.max_depth \u001b[38;5;129;01mis\u001b[39;00m \u001b[38;5;28;01mNone\u001b[39;00m \u001b[38;5;129;01mor\u001b[39;00m depth <= \u001b[38;5;28mself\u001b[39m.max_depth\n\u001b[32m    631\u001b[39m     ):\n\u001b[32m    632\u001b[39m         children = [\n\u001b[32m    633\u001b[39m             \u001b[38;5;28mself\u001b[39m._make_tree(\n\u001b[32m    634\u001b[39m                 et.children_left[node_id], et, criterion, depth=depth + \u001b[32m1\u001b[39m\n\u001b[32m   (...)\u001b[39m\u001b[32m    638\u001b[39m             ),\n\u001b[32m    639\u001b[39m         ]\n",
      "\u001b[36mFile \u001b[39m\u001b[32m~/DataScience/hackathons/DeepIndaba/Blood-Donor-Dashboard/thanus/lib/python3.13/site-packages/sklearn/tree/_export.py:386\u001b[39m, in \u001b[36m_BaseTreeExporter.node_to_str\u001b[39m\u001b[34m(self, tree, node_id, criterion)\u001b[39m\n\u001b[32m    384\u001b[39m     node_string += \u001b[33m\"\u001b[39m\u001b[33mclass = \u001b[39m\u001b[33m\"\u001b[39m\n\u001b[32m    385\u001b[39m \u001b[38;5;28;01mif\u001b[39;00m \u001b[38;5;28mself\u001b[39m.class_names \u001b[38;5;129;01mis\u001b[39;00m \u001b[38;5;129;01mnot\u001b[39;00m \u001b[38;5;28;01mTrue\u001b[39;00m:\n\u001b[32m--> \u001b[39m\u001b[32m386\u001b[39m     class_name = \u001b[38;5;28;43mself\u001b[39;49m\u001b[43m.\u001b[49m\u001b[43mclass_names\u001b[49m\u001b[43m[\u001b[49m\u001b[43mnp\u001b[49m\u001b[43m.\u001b[49m\u001b[43margmax\u001b[49m\u001b[43m(\u001b[49m\u001b[43mvalue\u001b[49m\u001b[43m)\u001b[49m\u001b[43m]\u001b[49m\n\u001b[32m    387\u001b[39m     class_name = \u001b[38;5;28mself\u001b[39m.str_escape(class_name)\n\u001b[32m    388\u001b[39m \u001b[38;5;28;01melse\u001b[39;00m:\n",
      "\u001b[31mIndexError\u001b[39m: list index out of range"
     ]
    },
    {
     "data": {
      "image/png": "[encoded data removed]",
      "text/plain": [
       "<Figure size 1500x800 with 1 Axes>"
      ]
     },
     "metadata": {},
     "output_type": "display_data"
    }
   ],
   "source": [
    "# visualizing model\n",
    "import matplotlib.pyplot as plt\n",
    "from sklearn.tree import plot_tree\n",
    "\n",
    "plt.figure(figsize=(15, 8))\n",
    "plot_tree(model, feature_names=X.columns, class_names=[\"Not Eligible\", \"Eligible\"], filled=True)\n",
    "plt.show()"
   ]
  },
  {
   "cell_type": "code",
   "execution_count": 12,
   "metadata": {},
   "outputs": [
    {
     "name": "stdout",
     "output_type": "stream",
     "text": [
      "Eligible for donation\n"
     ]
    }
   ],
   "source": [
    "# Example new donor data (replace values accordingly)\n",
    "new_donor = pd.DataFrame([{\n",
    "    \"Age\": 24,\n",
    "    \"Niveau_scolaire\": 3,\n",
    "    \"Genre_\": 1,\n",
    "    \"Situation_Matrimoniale_(SM)\": 0,\n",
    "    \"Profession_\": \"Etudiant (e)\",\n",
    "    \"Arrondissement_de_résidence_\": \"Douala 3\",\n",
    "    \"Quartier_de_Résidence_\": \"Yassa\",\n",
    "    \"Nationalité_\": \"Camerounaise\",\n",
    "    \"Religion_\": \"Chretien (Catholique)\",\n",
    "    \"A-t-il_(elle)_déjà_donné_le_sang_\": 0\n",
    "}])\n",
    "\n",
    "\n",
    "# Convert categorical variables to numerical (Encoding)\n",
    "new_donor = pd.get_dummies(new_donor, columns=categorical_columns, drop_first=True)\n",
    "new_donor = new_donor.reindex(columns=X.columns, fill_value=0)\n",
    "\n",
    "# Predict eligibility\n",
    "eligibility = model.predict(new_donor)\n",
    "print(\"Eligible for donation\" if eligibility[0] == 1 else \"Not eligible for donation\")"
   ]
  },
  {
   "cell_type": "code",
   "execution_count": 13,
   "metadata": {},
   "outputs": [
    {
     "name": "stdout",
     "output_type": "stream",
     "text": [
      "Model saved successfully!\n"
     ]
    }
   ],
   "source": [
    "# exporting our model\n",
    "import joblib\n",
    "\n",
    "# Save the trained model\n",
    "joblib.dump(model, \"blood_donation_model.pkl\")\n",
    "\n",
    "print(\"Model saved successfully!\")"
   ]
  },
  {
   "cell_type": "code",
   "execution_count": 14,
   "metadata": {},
   "outputs": [],
   "source": [
    "# function to use our exported model to predict eligible donation\n",
    "def predict_eligibility(new_data):\n",
    "    \"\"\"\n",
    "    Loads the trained model and predicts eligibility for blood donation.\n",
    "    \n",
    "    Parameters:\n",
    "        new_data (dict): A dictionary containing the input features.\n",
    "    \n",
    "    Returns:\n",
    "        str: \"Eligible for donation\" or \"Not eligible\"\n",
    "    \"\"\"\n",
    "    # Load the trained model\n",
    "    model = joblib.load(\"blood_donation_model.pkl\")\n",
    "\n",
    "    # Convert input dictionary to DataFrame\n",
    "    new_data_df = pd.DataFrame([new_data])\n",
    "\n",
    "    # Apply one-hot encoding (ensure it matches training format)\n",
    "    new_data_df = pd.get_dummies(new_data_df, columns=categorical_columns, drop_first=True)\n",
    "\n",
    "    # Ensure same column structure as training data\n",
    "    new_data_df = new_data_df.reindex(columns=X.columns, fill_value=0)\n",
    "\n",
    "    # Make a prediction\n",
    "    prediction = model.predict(new_data_df)\n",
    "\n",
    "    # Return result\n",
    "    return \"Eligible for donation ✅\" if prediction[0] == 1 else \"Not eligible ❌\""
   ]
  },
  {
   "cell_type": "code",
   "execution_count": 16,
   "metadata": {},
   "outputs": [
    {
     "name": "stdout",
     "output_type": "stream",
     "text": [
      "Eligible for donation ✅\n"
     ]
    }
   ],
   "source": [
    "# Example input (using data similar to our dataset)\n",
    "new_donor = {\n",
    "    \"Age\": 24,\n",
    "    \"Niveau_scolaire\": 3,\n",
    "    \"Genre_\": 1,\n",
    "    \"Situation_Matrimoniale_(SM)\": 0,\n",
    "    \"Profession_\": \"Etudiant (e)\",\n",
    "    \"Arrondissement_de_résidence_\": \"Douala 3\",\n",
    "    \"Quartier_de_Résidence_\": \"Yassa\",\n",
    "    \"Nationalité_\": \"Camerounaise\",\n",
    "    \"Religion_\": \"Chretien (Catholique)\",\n",
    "    \"A-t-il_(elle)_déjà_donné_le_sang_\": 0\n",
    "}\n",
    "\n",
    "# Predict eligibility\n",
    "result = predict_eligibility(new_donor)\n",
    "print(result)"
   ]
  },
  {
   "cell_type": "code",
   "execution_count": null,
   "metadata": {},
   "outputs": [],
   "source": []
  }
 ],
 "metadata": {
  "kernelspec": {
   "display_name": "thanus",
   "language": "python",
   "name": "python3"
  },
  "language_info": {
   "codemirror_mode": {
    "name": "ipython",
    "version": 3
   },
   "file_extension": ".py",
   "mimetype": "text/x-python",
   "name": "python",
   "nbconvert_exporter": "python",
   "pygments_lexer": "ipython3",
   "version": "3.13.1"
  }
 },
 "nbformat": 4,
 "nbformat_minor": 2
}
