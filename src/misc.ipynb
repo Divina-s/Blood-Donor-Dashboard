{
 "cells": [
  {
   "cell_type": "code",
   "execution_count": 1,
   "metadata": {},
   "outputs": [],
   "source": [
    "import pandas as pd"
   ]
  },
  {
   "cell_type": "code",
   "execution_count": 2,
   "metadata": {},
   "outputs": [],
   "source": [
    "df = pd.read_excel(\"./../resources/dataset/final_clean_data.xlsx\")"
   ]
  },
  {
   "cell_type": "code",
   "execution_count": 3,
   "metadata": {},
   "outputs": [
    {
     "data": {
      "text/html": [
       "<div>\n",
       "<style scoped>\n",
       "    .dataframe tbody tr th:only-of-type {\n",
       "        vertical-align: middle;\n",
       "    }\n",
       "\n",
       "    .dataframe tbody tr th {\n",
       "        vertical-align: top;\n",
       "    }\n",
       "\n",
       "    .dataframe thead th {\n",
       "        text-align: right;\n",
       "    }\n",
       "</style>\n",
       "<table border=\"1\" class=\"dataframe\">\n",
       "  <thead>\n",
       "    <tr style=\"text-align: right;\">\n",
       "      <th></th>\n",
       "      <th>ID</th>\n",
       "      <th>Age</th>\n",
       "      <th>Horodateur</th>\n",
       "      <th>Niveau_scolaire</th>\n",
       "      <th>Genre_</th>\n",
       "      <th>Situation_Matrimoniale_(SM)</th>\n",
       "      <th>Profession_</th>\n",
       "      <th>Arrondissement_de_résidence_</th>\n",
       "      <th>Quartier_de_Résidence_</th>\n",
       "      <th>Nationalité_</th>\n",
       "      <th>Religion_</th>\n",
       "      <th>A-t-il_(elle)_déjà_donné_le_sang_</th>\n",
       "      <th>Taux_d’hémoglobine_</th>\n",
       "      <th>ÉLIGIBILITÉ_AU_DON.</th>\n",
       "    </tr>\n",
       "  </thead>\n",
       "  <tbody>\n",
       "    <tr>\n",
       "      <th>0</th>\n",
       "      <td>DONOR_1842</td>\n",
       "      <td>24</td>\n",
       "      <td>46:44.9</td>\n",
       "      <td>3</td>\n",
       "      <td>1</td>\n",
       "      <td>0</td>\n",
       "      <td>Etudiant (e)</td>\n",
       "      <td>Douala 3</td>\n",
       "      <td>Yassa</td>\n",
       "      <td>Camerounaise</td>\n",
       "      <td>Chretien (Catholique)</td>\n",
       "      <td>0</td>\n",
       "      <td>13.895459</td>\n",
       "      <td>1</td>\n",
       "    </tr>\n",
       "    <tr>\n",
       "      <th>1</th>\n",
       "      <td>DONOR_1843</td>\n",
       "      <td>23</td>\n",
       "      <td>44:19.0</td>\n",
       "      <td>3</td>\n",
       "      <td>1</td>\n",
       "      <td>0</td>\n",
       "      <td>Sans Emplois</td>\n",
       "      <td>Pas Précisé</td>\n",
       "      <td>Pas Précisé</td>\n",
       "      <td>Camerounaise</td>\n",
       "      <td>Chretien (Catholique)</td>\n",
       "      <td>1</td>\n",
       "      <td>10.800000</td>\n",
       "      <td>0</td>\n",
       "    </tr>\n",
       "    <tr>\n",
       "      <th>2</th>\n",
       "      <td>DONOR_1844</td>\n",
       "      <td>41</td>\n",
       "      <td>46:54.3</td>\n",
       "      <td>0</td>\n",
       "      <td>1</td>\n",
       "      <td>2</td>\n",
       "      <td>Tailleur</td>\n",
       "      <td>Douala 1</td>\n",
       "      <td>NEW BELL</td>\n",
       "      <td>Camerounaise</td>\n",
       "      <td>Pas Précisé</td>\n",
       "      <td>0</td>\n",
       "      <td>13.895459</td>\n",
       "      <td>0</td>\n",
       "    </tr>\n",
       "    <tr>\n",
       "      <th>3</th>\n",
       "      <td>DONOR_1845</td>\n",
       "      <td>24</td>\n",
       "      <td>29:29.7</td>\n",
       "      <td>3</td>\n",
       "      <td>1</td>\n",
       "      <td>0</td>\n",
       "      <td>Etudiant</td>\n",
       "      <td>Douala 5</td>\n",
       "      <td>Ange raphael</td>\n",
       "      <td>Camerounaise</td>\n",
       "      <td>Musulman</td>\n",
       "      <td>0</td>\n",
       "      <td>15.000000</td>\n",
       "      <td>1</td>\n",
       "    </tr>\n",
       "    <tr>\n",
       "      <th>4</th>\n",
       "      <td>DONOR_1846</td>\n",
       "      <td>30</td>\n",
       "      <td>47:47.4</td>\n",
       "      <td>2</td>\n",
       "      <td>1</td>\n",
       "      <td>0</td>\n",
       "      <td>Militaire</td>\n",
       "      <td>Douala (Non précisé )</td>\n",
       "      <td>Beedi</td>\n",
       "      <td>Camerounaise</td>\n",
       "      <td>Adventiste</td>\n",
       "      <td>1</td>\n",
       "      <td>13.895459</td>\n",
       "      <td>1</td>\n",
       "    </tr>\n",
       "  </tbody>\n",
       "</table>\n",
       "</div>"
      ],
      "text/plain": [
       "           ID  Age Horodateur  Niveau_scolaire  Genre_  \\\n",
       "0  DONOR_1842   24    46:44.9                3       1   \n",
       "1  DONOR_1843   23    44:19.0                3       1   \n",
       "2  DONOR_1844   41    46:54.3                0       1   \n",
       "3  DONOR_1845   24    29:29.7                3       1   \n",
       "4  DONOR_1846   30    47:47.4                2       1   \n",
       "\n",
       "   Situation_Matrimoniale_(SM)   Profession_ Arrondissement_de_résidence_  \\\n",
       "0                            0  Etudiant (e)                     Douala 3   \n",
       "1                            0  Sans Emplois                  Pas Précisé   \n",
       "2                            2     Tailleur                      Douala 1   \n",
       "3                            0      Etudiant                     Douala 5   \n",
       "4                            0     Militaire        Douala (Non précisé )   \n",
       "\n",
       "  Quartier_de_Résidence_  Nationalité_              Religion_  \\\n",
       "0                  Yassa  Camerounaise  Chretien (Catholique)   \n",
       "1            Pas Précisé  Camerounaise  Chretien (Catholique)   \n",
       "2               NEW BELL  Camerounaise            Pas Précisé   \n",
       "3           Ange raphael  Camerounaise               Musulman   \n",
       "4                  Beedi  Camerounaise             Adventiste   \n",
       "\n",
       "   A-t-il_(elle)_déjà_donné_le_sang_  Taux_d’hémoglobine_  ÉLIGIBILITÉ_AU_DON.  \n",
       "0                                  0            13.895459                    1  \n",
       "1                                  1            10.800000                    0  \n",
       "2                                  0            13.895459                    0  \n",
       "3                                  0            15.000000                    1  \n",
       "4                                  1            13.895459                    1  "
      ]
     },
     "execution_count": 3,
     "metadata": {},
     "output_type": "execute_result"
    }
   ],
   "source": [
    "df.head()"
   ]
  },
  {
   "cell_type": "code",
   "execution_count": 5,
   "metadata": {},
   "outputs": [
    {
     "data": {
      "text/plain": [
       "0"
      ]
     },
     "execution_count": 5,
     "metadata": {},
     "output_type": "execute_result"
    }
   ],
   "source": [
    "# find the primary key in the dataset\n",
    "df.columns.get_loc(\"ID\")\n"
   ]
  },
  {
   "cell_type": "code",
   "execution_count": 6,
   "metadata": {},
   "outputs": [
    {
     "name": "stdout",
     "output_type": "stream",
     "text": [
      "✅ 'ID' is a valid primary key!\n"
     ]
    }
   ],
   "source": [
    "if df[\"ID\"].is_unique:\n",
    "    print(\"✅ 'ID' is a valid primary key!\")\n",
    "else:\n",
    "    print(\"⚠️ Warning: 'ID' contains duplicates!\")"
   ]
  },
  {
   "cell_type": "code",
   "execution_count": 7,
   "metadata": {},
   "outputs": [
    {
     "name": "stdout",
     "output_type": "stream",
     "text": [
      "Repeated Donors:\n",
      "Empty DataFrame\n",
      "Columns: [ID, Age, Horodateur, Niveau_scolaire, Genre_, Situation_Matrimoniale_(SM), Profession_, Arrondissement_de_résidence_, Quartier_de_Résidence_, Nationalité_, Religion_, A-t-il_(elle)_déjà_donné_le_sang_, Taux_d’hémoglobine_, ÉLIGIBILITÉ_AU_DON.]\n",
      "Index: []\n"
     ]
    }
   ],
   "source": [
    "duplicate_donors = df[df.duplicated(subset=[\"ID\"], keep=False)]\n",
    "\n",
    "# Display the repeated donors\n",
    "print(\"Repeated Donors:\")\n",
    "print(duplicate_donors)"
   ]
  },
  {
   "cell_type": "code",
   "execution_count": 8,
   "metadata": {},
   "outputs": [
    {
     "name": "stdout",
     "output_type": "stream",
     "text": [
      "Donors who have donated more than once:\n",
      "Series([], Name: A-t-il_(elle)_déjà_donné_le_sang_, dtype: int64)\n"
     ]
    }
   ],
   "source": [
    "donation_counts = df.groupby(\"ID\")[\"A-t-il_(elle)_déjà_donné_le_sang_\"].sum()\n",
    "\n",
    "# Find donors who have donated more than once\n",
    "repeat_donors = donation_counts[donation_counts > 1]\n",
    "\n",
    "# Display results\n",
    "print(\"Donors who have donated more than once:\")\n",
    "print(repeat_donors)"
   ]
  },
  {
   "cell_type": "code",
   "execution_count": 9,
   "metadata": {},
   "outputs": [
    {
     "name": "stdout",
     "output_type": "stream",
     "text": [
      "Donors who have donated more than once based on unique attributes:\n",
      "Age  Niveau_scolaire  Genre_  Profession_     Arrondissement_de_résidence_  Quartier_de_Résidence_  Nationalité_  Religion_            \n",
      "21   3                1       Etudiant (e)    Douala 3                      Nyalla                  Camerounaise  Chretien (Catholique)    2\n",
      "26   3                1       Etudiant (e)    Douala (Non précisé )         Douala                  Camerounaise  Chretien (Catholique)    2\n",
      "31   2                1       Commerçant (e)  Douala (Non précisé )         Village                 Camerounaise  Pas Précisé              2\n",
      "Name: A-t-il_(elle)_déjà_donné_le_sang_, dtype: int64\n"
     ]
    }
   ],
   "source": [
    "donor_columns = [\"Age\", \"Niveau_scolaire\", \"Genre_\", \"Profession_\", \n",
    "                 \"Arrondissement_de_résidence_\", \"Quartier_de_Résidence_\", \n",
    "                 \"Nationalité_\", \"Religion_\"]\n",
    "\n",
    "# Count occurrences of each donor\n",
    "donor_counts = df.groupby(donor_columns)[\"A-t-il_(elle)_déjà_donné_le_sang_\"].sum()\n",
    "\n",
    "# Find donors who have donated more than once\n",
    "repeat_donors = donor_counts[donor_counts > 1]\n",
    "\n",
    "# Display results\n",
    "print(\"Donors who have donated more than once based on unique attributes:\")\n",
    "print(repeat_donors)"
   ]
  },
  {
   "cell_type": "code",
   "execution_count": 10,
   "metadata": {},
   "outputs": [
    {
     "name": "stdout",
     "output_type": "stream",
     "text": [
      "      Age  Niveau_scolaire  Genre_            Profession_  \\\n",
      "0       0               -1       1              Chauffeur   \n",
      "1       0               -1       1              Militaire   \n",
      "2       0               -1       1                Soudeur   \n",
      "3       0               -1       1  Technicien endiscopie   \n",
      "4       0                0       1         Commerçant (e)   \n",
      "...   ...              ...     ...                    ...   \n",
      "1831   59                2       1     Gouvernant d'hotel   \n",
      "1832   60               -1       1                Artiste   \n",
      "1833   60                2       1              chauffeur   \n",
      "1834   62                2       1                 CASINO   \n",
      "1835   63                2       1           Sans Emplois   \n",
      "\n",
      "     Arrondissement_de_résidence_ Quartier_de_Résidence_  Nationalité_  \\\n",
      "0                        Douala 3                  Yassa  Camerounaise   \n",
      "1                        Douala 4               BONABERI  Camerounaise   \n",
      "2                        Douala 3            Ndogpassi 3  Camerounaise   \n",
      "3           Douala (Non précisé )                 Douala   Non precisé   \n",
      "4           Douala (Non précisé )        Ancien abatoire        Malien   \n",
      "...                           ...                    ...           ...   \n",
      "1831        Douala (Non précisé )                Logbaba  Camerounaise   \n",
      "1832        Douala (Non précisé )                 Douala  Camerounaise   \n",
      "1833                     Douala 3                japouma  Camerounaise   \n",
      "1834        Douala (Non précisé )        NEWTON  AIRPORT  Camerounaise   \n",
      "1835                     Douala 5                  Beedi  Camerounaise   \n",
      "\n",
      "                     Religion_  Total_Donations  \n",
      "0     Chretien (Ne de nouveau)                0  \n",
      "1                  Pas Précisé                1  \n",
      "2        Chretien (Catholique)                0  \n",
      "3        Chretien (Catholique)                1  \n",
      "4                     Musulman                1  \n",
      "...                        ...              ...  \n",
      "1831     Chretien (Catholique)                1  \n",
      "1832               Pas Précisé                0  \n",
      "1833                  Musulman                1  \n",
      "1834     Chretien (Catholique)                0  \n",
      "1835    Chretien (Protestant )                0  \n",
      "\n",
      "[1836 rows x 9 columns]\n"
     ]
    }
   ],
   "source": [
    "# Define columns to identify unique donors\n",
    "donor_columns = [\"Age\", \"Niveau_scolaire\", \"Genre_\", \"Profession_\", \n",
    "                 \"Arrondissement_de_résidence_\", \"Quartier_de_Résidence_\", \n",
    "                 \"Nationalité_\", \"Religion_\"]\n",
    "\n",
    "# Count total number of times each donor has donated\n",
    "donation_counts = df.groupby(donor_columns)[\"A-t-il_(elle)_déjà_donné_le_sang_\"].sum().reset_index()\n",
    "\n",
    "# Rename column for clarity\n",
    "donation_counts.rename(columns={\"A-t-il_(elle)_déjà_donné_le_sang_\": \"Total_Donations\"}, inplace=True)\n",
    "\n",
    "# Display results\n",
    "print(donation_counts)"
   ]
  }
 ],
 "metadata": {
  "kernelspec": {
   "display_name": "thanus",
   "language": "python",
   "name": "python3"
  },
  "language_info": {
   "codemirror_mode": {
    "name": "ipython",
    "version": 3
   },
   "file_extension": ".py",
   "mimetype": "text/x-python",
   "name": "python",
   "nbconvert_exporter": "python",
   "pygments_lexer": "ipython3",
   "version": "3.13.1"
  }
 },
 "nbformat": 4,
 "nbformat_minor": 2
}
