{
 "cells": [
  {
   "cell_type": "code",
   "execution_count": 9,
   "metadata": {},
   "outputs": [],
   "source": [
    "#importing neccessary libraries\n",
    "\n",
    "import pandas as pd\n",
    "from geopy.geocoders import Nominatim\n",
    "import folium\n",
    "import time\n",
    "import os\n",
    "import numpy as np\n",
    "import nltk\n",
    "import seaborn as sns\n",
    "import matplotlib.pyplot as plt\n"
   ]
  },
  {
   "cell_type": "markdown",
   "metadata": {},
   "source": [
    "### Loading the datasets"
   ]
  },
  {
   "cell_type": "code",
   "execution_count": 11,
   "metadata": {},
   "outputs": [],
   "source": [
    "df_sheet1 = pd.read_excel(\"../resources/dataset/final_clean_data.xlsx\", sheet_name=\"Clean_Candidate_Donor_data\")\n",
    "\n"
   ]
  },
  {
   "cell_type": "code",
   "execution_count": 12,
   "metadata": {},
   "outputs": [
    {
     "data": {
      "text/html": [
       "<div>\n",
       "<style scoped>\n",
       "    .dataframe tbody tr th:only-of-type {\n",
       "        vertical-align: middle;\n",
       "    }\n",
       "\n",
       "    .dataframe tbody tr th {\n",
       "        vertical-align: top;\n",
       "    }\n",
       "\n",
       "    .dataframe thead th {\n",
       "        text-align: right;\n",
       "    }\n",
       "</style>\n",
       "<table border=\"1\" class=\"dataframe\">\n",
       "  <thead>\n",
       "    <tr style=\"text-align: right;\">\n",
       "      <th></th>\n",
       "      <th>ID</th>\n",
       "      <th>Age</th>\n",
       "      <th>Horodateur</th>\n",
       "      <th>Niveau_scolaire</th>\n",
       "      <th>Genre_</th>\n",
       "      <th>Situation_Matrimoniale_(SM)</th>\n",
       "      <th>Profession_</th>\n",
       "      <th>Arrondissement_de_résidence_</th>\n",
       "      <th>Quartier_de_Résidence_</th>\n",
       "      <th>Nationalité_</th>\n",
       "      <th>Religion_</th>\n",
       "      <th>A-t-il_(elle)_déjà_donné_le_sang_</th>\n",
       "      <th>Taux_d’hémoglobine_</th>\n",
       "      <th>ÉLIGIBILITÉ_AU_DON.</th>\n",
       "    </tr>\n",
       "  </thead>\n",
       "  <tbody>\n",
       "    <tr>\n",
       "      <th>0</th>\n",
       "      <td>DONOR_1842</td>\n",
       "      <td>24</td>\n",
       "      <td>46:44.9</td>\n",
       "      <td>3</td>\n",
       "      <td>1</td>\n",
       "      <td>0</td>\n",
       "      <td>Etudiant (e)</td>\n",
       "      <td>Douala 3</td>\n",
       "      <td>Yassa</td>\n",
       "      <td>Camerounaise</td>\n",
       "      <td>Chretien (Catholique)</td>\n",
       "      <td>0</td>\n",
       "      <td>13.895459</td>\n",
       "      <td>1</td>\n",
       "    </tr>\n",
       "    <tr>\n",
       "      <th>1</th>\n",
       "      <td>DONOR_1843</td>\n",
       "      <td>23</td>\n",
       "      <td>44:19.0</td>\n",
       "      <td>3</td>\n",
       "      <td>1</td>\n",
       "      <td>0</td>\n",
       "      <td>Sans Emplois</td>\n",
       "      <td>Pas Précisé</td>\n",
       "      <td>Pas Précisé</td>\n",
       "      <td>Camerounaise</td>\n",
       "      <td>Chretien (Catholique)</td>\n",
       "      <td>1</td>\n",
       "      <td>10.800000</td>\n",
       "      <td>0</td>\n",
       "    </tr>\n",
       "    <tr>\n",
       "      <th>2</th>\n",
       "      <td>DONOR_1844</td>\n",
       "      <td>41</td>\n",
       "      <td>46:54.3</td>\n",
       "      <td>0</td>\n",
       "      <td>1</td>\n",
       "      <td>2</td>\n",
       "      <td>Tailleur</td>\n",
       "      <td>Douala 1</td>\n",
       "      <td>NEW BELL</td>\n",
       "      <td>Camerounaise</td>\n",
       "      <td>Pas Précisé</td>\n",
       "      <td>0</td>\n",
       "      <td>13.895459</td>\n",
       "      <td>0</td>\n",
       "    </tr>\n",
       "    <tr>\n",
       "      <th>3</th>\n",
       "      <td>DONOR_1845</td>\n",
       "      <td>24</td>\n",
       "      <td>29:29.7</td>\n",
       "      <td>3</td>\n",
       "      <td>1</td>\n",
       "      <td>0</td>\n",
       "      <td>Etudiant</td>\n",
       "      <td>Douala 5</td>\n",
       "      <td>Ange raphael</td>\n",
       "      <td>Camerounaise</td>\n",
       "      <td>Musulman</td>\n",
       "      <td>0</td>\n",
       "      <td>15.000000</td>\n",
       "      <td>1</td>\n",
       "    </tr>\n",
       "    <tr>\n",
       "      <th>4</th>\n",
       "      <td>DONOR_1846</td>\n",
       "      <td>30</td>\n",
       "      <td>47:47.4</td>\n",
       "      <td>2</td>\n",
       "      <td>1</td>\n",
       "      <td>0</td>\n",
       "      <td>Militaire</td>\n",
       "      <td>Douala (Non précisé )</td>\n",
       "      <td>Beedi</td>\n",
       "      <td>Camerounaise</td>\n",
       "      <td>Adventiste</td>\n",
       "      <td>1</td>\n",
       "      <td>13.895459</td>\n",
       "      <td>1</td>\n",
       "    </tr>\n",
       "  </tbody>\n",
       "</table>\n",
       "</div>"
      ],
      "text/plain": [
       "           ID  Age Horodateur  Niveau_scolaire  Genre_  \\\n",
       "0  DONOR_1842   24    46:44.9                3       1   \n",
       "1  DONOR_1843   23    44:19.0                3       1   \n",
       "2  DONOR_1844   41    46:54.3                0       1   \n",
       "3  DONOR_1845   24    29:29.7                3       1   \n",
       "4  DONOR_1846   30    47:47.4                2       1   \n",
       "\n",
       "   Situation_Matrimoniale_(SM)   Profession_ Arrondissement_de_résidence_  \\\n",
       "0                            0  Etudiant (e)                     Douala 3   \n",
       "1                            0  Sans Emplois                  Pas Précisé   \n",
       "2                            2     Tailleur                      Douala 1   \n",
       "3                            0      Etudiant                     Douala 5   \n",
       "4                            0     Militaire        Douala (Non précisé )   \n",
       "\n",
       "  Quartier_de_Résidence_  Nationalité_              Religion_  \\\n",
       "0                  Yassa  Camerounaise  Chretien (Catholique)   \n",
       "1            Pas Précisé  Camerounaise  Chretien (Catholique)   \n",
       "2               NEW BELL  Camerounaise            Pas Précisé   \n",
       "3           Ange raphael  Camerounaise               Musulman   \n",
       "4                  Beedi  Camerounaise             Adventiste   \n",
       "\n",
       "   A-t-il_(elle)_déjà_donné_le_sang_  Taux_d’hémoglobine_  ÉLIGIBILITÉ_AU_DON.  \n",
       "0                                  0            13.895459                    1  \n",
       "1                                  1            10.800000                    0  \n",
       "2                                  0            13.895459                    0  \n",
       "3                                  0            15.000000                    1  \n",
       "4                                  1            13.895459                    1  "
      ]
     },
     "execution_count": 12,
     "metadata": {},
     "output_type": "execute_result"
    }
   ],
   "source": [
    "df_sheet1.head()"
   ]
  },
  {
   "cell_type": "code",
   "execution_count": 13,
   "metadata": {},
   "outputs": [],
   "source": [
    "df_sheet2 = pd.read_excel(\"../resources/dataset/final_clean_data.xlsx\", sheet_name=\"Clean_Donor_Data\")"
   ]
  },
  {
   "cell_type": "code",
   "execution_count": 14,
   "metadata": {},
   "outputs": [
    {
     "data": {
      "text/html": [
       "<div>\n",
       "<style scoped>\n",
       "    .dataframe tbody tr th:only-of-type {\n",
       "        vertical-align: middle;\n",
       "    }\n",
       "\n",
       "    .dataframe tbody tr th {\n",
       "        vertical-align: top;\n",
       "    }\n",
       "\n",
       "    .dataframe thead th {\n",
       "        text-align: right;\n",
       "    }\n",
       "</style>\n",
       "<table border=\"1\" class=\"dataframe\">\n",
       "  <thead>\n",
       "    <tr style=\"text-align: right;\">\n",
       "      <th></th>\n",
       "      <th>Sexe</th>\n",
       "      <th>Age</th>\n",
       "      <th>Type de donation</th>\n",
       "      <th>Groupe Sanguin ABO / Rhesus</th>\n",
       "      <th>Phenotype</th>\n",
       "      <th>Date</th>\n",
       "    </tr>\n",
       "  </thead>\n",
       "  <tbody>\n",
       "    <tr>\n",
       "      <th>0</th>\n",
       "      <td>1</td>\n",
       "      <td>26</td>\n",
       "      <td>F</td>\n",
       "      <td>B+</td>\n",
       "      <td>RH-2, RH+4, RH-3, RH+5, -kell1</td>\n",
       "      <td>2020-07-16</td>\n",
       "    </tr>\n",
       "    <tr>\n",
       "      <th>1</th>\n",
       "      <td>1</td>\n",
       "      <td>24</td>\n",
       "      <td>F</td>\n",
       "      <td>O+</td>\n",
       "      <td>RH-2, RH+4, RH-3, RH+5, -kell1</td>\n",
       "      <td>2020-07-16</td>\n",
       "    </tr>\n",
       "    <tr>\n",
       "      <th>2</th>\n",
       "      <td>1</td>\n",
       "      <td>41</td>\n",
       "      <td>F</td>\n",
       "      <td>A+</td>\n",
       "      <td>RH+2, RH+4, RH-3, RH+5, -kell1</td>\n",
       "      <td>2020-07-17</td>\n",
       "    </tr>\n",
       "    <tr>\n",
       "      <th>3</th>\n",
       "      <td>1</td>\n",
       "      <td>20</td>\n",
       "      <td>F</td>\n",
       "      <td>O+</td>\n",
       "      <td>RH-2, RH+4, RH-3, RH+5, -kell1</td>\n",
       "      <td>2020-07-17</td>\n",
       "    </tr>\n",
       "    <tr>\n",
       "      <th>4</th>\n",
       "      <td>1</td>\n",
       "      <td>34</td>\n",
       "      <td>F</td>\n",
       "      <td>O+</td>\n",
       "      <td>RH-2, RH+4, RH+3, RH+5, -kell1</td>\n",
       "      <td>2020-07-17</td>\n",
       "    </tr>\n",
       "  </tbody>\n",
       "</table>\n",
       "</div>"
      ],
      "text/plain": [
       "   Sexe  Age  Type de donation  Groupe Sanguin ABO / Rhesus   \\\n",
       "0     1    26                 F                           B+   \n",
       "1     1    24                 F                           O+   \n",
       "2     1    41                 F                           A+   \n",
       "3     1    20                 F                           O+   \n",
       "4     1    34                 F                           O+   \n",
       "\n",
       "                       Phenotype        Date  \n",
       "0  RH-2, RH+4, RH-3, RH+5, -kell1 2020-07-16  \n",
       "1  RH-2, RH+4, RH-3, RH+5, -kell1 2020-07-16  \n",
       "2  RH+2, RH+4, RH-3, RH+5, -kell1 2020-07-17  \n",
       "3  RH-2, RH+4, RH-3, RH+5, -kell1 2020-07-17  \n",
       "4  RH-2, RH+4, RH+3, RH+5, -kell1 2020-07-17  "
      ]
     },
     "execution_count": 14,
     "metadata": {},
     "output_type": "execute_result"
    }
   ],
   "source": [
    "df_sheet2.head()"
   ]
  },
  {
   "cell_type": "markdown",
   "metadata": {},
   "source": []
  },
  {
   "cell_type": "markdown",
   "metadata": {},
   "source": [
    "### Geospatial Map distribution of donors"
   ]
  },
  {
   "cell_type": "code",
   "execution_count": 16,
   "metadata": {},
   "outputs": [
    {
     "name": "stdout",
     "output_type": "stream",
     "text": [
      "Error for Douala (Non précisé ): HTTPSConnectionPool(host='nominatim.openstreetmap.org', port=443): Max retries exceeded with url: /search?q=Douala+%28Non+pr%C3%A9cis%C3%A9+%29&format=json&limit=1 (Caused by NameResolutionError(\"<urllib3.connection.HTTPSConnection object at 0x000002473FF9AE60>: Failed to resolve 'nominatim.openstreetmap.org' ([Errno 11001] getaddrinfo failed)\"))\n",
      "Error for Douala 5: HTTPSConnectionPool(host='nominatim.openstreetmap.org', port=443): Max retries exceeded with url: /search?q=Douala+5&format=json&limit=1 (Caused by NameResolutionError(\"<urllib3.connection.HTTPSConnection object at 0x000002473FF9B880>: Failed to resolve 'nominatim.openstreetmap.org' ([Errno 11001] getaddrinfo failed)\"))\n",
      "Error for Douala 3: HTTPSConnectionPool(host='nominatim.openstreetmap.org', port=443): Max retries exceeded with url: /search?q=Douala+3&format=json&limit=1 (Caused by NameResolutionError(\"<urllib3.connection.HTTPSConnection object at 0x000002473FF9B460>: Failed to resolve 'nominatim.openstreetmap.org' ([Errno 11001] getaddrinfo failed)\"))\n",
      "Error for Douala 3: HTTPSConnectionPool(host='nominatim.openstreetmap.org', port=443): Max retries exceeded with url: /search?q=Douala+3&format=json&limit=1 (Caused by NameResolutionError(\"<urllib3.connection.HTTPSConnection object at 0x000002473FF9AF20>: Failed to resolve 'nominatim.openstreetmap.org' ([Errno 11001] getaddrinfo failed)\"))\n",
      "Error for Douala (Non précisé ): HTTPSConnectionPool(host='nominatim.openstreetmap.org', port=443): Max retries exceeded with url: /search?q=Douala+%28Non+pr%C3%A9cis%C3%A9+%29&format=json&limit=1 (Caused by NameResolutionError(\"<urllib3.connection.HTTPSConnection object at 0x000002473FFA45E0>: Failed to resolve 'nominatim.openstreetmap.org' ([Errno 11001] getaddrinfo failed)\"))\n"
     ]
    }
   ],
   "source": [
    "geolocator = Nominatim(user_agent=\"geo_mapping\")\n",
    "\n",
    "def get_coordinates(location):\n",
    "    try:\n",
    "        time.sleep(1)  # Add delay to avoid rate limit issues\n",
    "        loc = geolocator.geocode(location, timeout=10)  # Increase timeout\n",
    "        if loc:\n",
    "            return pd.Series([loc.latitude, loc.longitude])\n",
    "        else:\n",
    "            return pd.Series([None, None])\n",
    "    except Exception as e:\n",
    "        print(f\"Error for {location}: {e}\")\n",
    "        return pd.Series([None, None])\n",
    "\n",
    "df_sheet1[['Latitude', 'Longitude']] = df_sheet1['Arrondissement_de_résidence_'].apply(get_coordinates)"
   ]
  },
  {
   "cell_type": "markdown",
   "metadata": {},
   "source": []
  },
  {
   "cell_type": "code",
   "execution_count": 18,
   "metadata": {},
   "outputs": [],
   "source": [
    "map_center = [df_sheet1['Latitude'].mean(), df_sheet1['Longitude'].mean()]\n",
    "map_donors = folium.Map(location=map_center, zoom_start=12)\n",
    "\n",
    "# Add points to map\n",
    "for index, row in df_sheet1.dropna(subset=['Latitude', 'Longitude']).iterrows():\n",
    "    folium.Marker(\n",
    "        location=[row['Latitude'], row['Longitude']],\n",
    "        popup=row['Arrondissement_de_résidence_'],\n",
    "        icon=folium.Icon(color=\"red\", icon=\"info-sign\")\n",
    "    ).add_to(map_donors)\n",
    "\n",
    "# Save or display\n",
    "map_donors.save(\"donor_distribution.html\")"
   ]
  },
  {
   "cell_type": "code",
   "execution_count": 19,
   "metadata": {},
   "outputs": [
    {
     "name": "stderr",
     "output_type": "stream",
     "text": [
      "2025-03-25 15:17:27.292 Thread 'MainThread': missing ScriptRunContext! This warning can be ignored when running in bare mode.\n",
      "2025-03-25 15:17:27.303 Thread 'MainThread': missing ScriptRunContext! This warning can be ignored when running in bare mode.\n",
      "2025-03-25 15:17:27.304 Thread 'MainThread': missing ScriptRunContext! This warning can be ignored when running in bare mode.\n",
      "2025-03-25 15:17:27.305 Thread 'MainThread': missing ScriptRunContext! This warning can be ignored when running in bare mode.\n"
     ]
    }
   ],
   "source": [
    "import streamlit as st\n",
    "# **Save Results**\n",
    "df_sheet1.to_csv(\"donor_distribution_results.csv\", index=False)\n",
    "st.write(\" Data saved successfully!\")"
   ]
  }
 ],
 "metadata": {
  "kernelspec": {
   "display_name": "Python 3",
   "language": "python",
   "name": "python3"
  },
  "language_info": {
   "codemirror_mode": {
    "name": "ipython",
    "version": 3
   },
   "file_extension": ".py",
   "mimetype": "text/x-python",
   "name": "python",
   "nbconvert_exporter": "python",
   "pygments_lexer": "ipython3",
   "version": "3.10.7"
  }
 },
 "nbformat": 4,
 "nbformat_minor": 2
}
